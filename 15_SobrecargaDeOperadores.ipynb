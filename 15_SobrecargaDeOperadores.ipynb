{
 "cells": [
  {
   "cell_type": "code",
   "execution_count": 1,
   "metadata": {},
   "outputs": [
    {
     "name": "stdout",
     "output_type": "stream",
     "text": [
      "7\n",
      "Hola Mundo \n",
      "[1, 2, 3, 4, 5, 6]\n"
     ]
    }
   ],
   "source": [
    "# El operador + es un ejemplo de sobrecarga de operador\n",
    "a = 3\n",
    "b = 4\n",
    "print(a+b)\n",
    "\n",
    "\n",
    "a = 'Hola '\n",
    "b= 'Mundo '\n",
    "print(a+b)\n",
    "\n",
    "\n",
    "a = [1,2,3]\n",
    "b = [4,5,6]\n",
    "print(a+b)"
   ]
  },
  {
   "cell_type": "code",
   "execution_count": 2,
   "metadata": {},
   "outputs": [
    {
     "name": "stdout",
     "output_type": "stream",
     "text": [
      "JuanCarlos\n"
     ]
    }
   ],
   "source": [
    "class Persona:\n",
    "\n",
    "\n",
    "    def __init__(self, nombre):\n",
    "        self.nombre = nombre\n",
    "\n",
    "\n",
    "    # Sobre cargamos el metodo de add para modificar el operador de +\n",
    "    # Se manda llamar de manera automaticamente cuando queremos hacer una suma del objeto\n",
    "    def __add__(self,  other):\n",
    "        return self.nombre + other.nombre\n",
    "\n",
    "\n",
    "persona1 = Persona('Juan')\n",
    "persona2 = Persona('Carlos')\n",
    "\n",
    "\n",
    "print(persona1+persona2)"
   ]
  }
 ],
 "metadata": {
  "kernelspec": {
   "display_name": "Python 3",
   "language": "python",
   "name": "python3"
  },
  "language_info": {
   "codemirror_mode": {
    "name": "ipython",
    "version": 3
   },
   "file_extension": ".py",
   "mimetype": "text/x-python",
   "name": "python",
   "nbconvert_exporter": "python",
   "pygments_lexer": "ipython3",
   "version": "3.11.4"
  },
  "orig_nbformat": 4
 },
 "nbformat": 4,
 "nbformat_minor": 2
}
