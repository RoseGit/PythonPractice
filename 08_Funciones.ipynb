{
 "cells": [
  {
   "cell_type": "code",
   "execution_count": 1,
   "metadata": {},
   "outputs": [
    {
     "ename": "NameError",
     "evalue": "name 'myFuncionPython' is not defined",
     "output_type": "error",
     "traceback": [
      "\u001b[1;31m---------------------------------------------------------------------------\u001b[0m",
      "\u001b[1;31mNameError\u001b[0m                                 Traceback (most recent call last)",
      "Cell \u001b[1;32mIn[1], line 2\u001b[0m\n\u001b[0;32m      1\u001b[0m \u001b[39m# Intenar usar una funcion que aun no es declarada arroja un error\u001b[39;00m\n\u001b[1;32m----> 2\u001b[0m myFuncionPython()\n\u001b[0;32m      5\u001b[0m \u001b[39mdef\u001b[39;00m \u001b[39mmyFuncionPython\u001b[39m():\n\u001b[0;32m      6\u001b[0m     \u001b[39mprint\u001b[39m(\u001b[39m\"\u001b[39m\u001b[39mEste es un mensaje desde una funcion\u001b[39m\u001b[39m\"\u001b[39m)\n",
      "\u001b[1;31mNameError\u001b[0m: name 'myFuncionPython' is not defined"
     ]
    }
   ],
   "source": [
    "# Intenar usar una funcion que aun no es declarada arroja un error\n",
    "myFuncionPython()\n",
    "\n",
    "\n",
    "def myFuncionPython():\n",
    "    print(\"Este es un mensaje desde una funcion\")\n",
    "    print(\"Tengo varias lineas a ejecutar \")\n",
    "    print(\"En esta funcion\")"
   ]
  },
  {
   "cell_type": "code",
   "execution_count": 2,
   "metadata": {},
   "outputs": [
    {
     "name": "stdout",
     "output_type": "stream",
     "text": [
      "Este es un mensaje desde una funcion\n",
      "Tengo varias lineas a ejecutar \n",
      "En esta funcion\n",
      "Este es un mensaje desde una funcion\n",
      "Tengo varias lineas a ejecutar \n",
      "En esta funcion\n",
      "Este es un mensaje desde una funcion\n",
      "Tengo varias lineas a ejecutar \n",
      "En esta funcion\n",
      "Este es un mensaje desde una funcion\n",
      "Tengo varias lineas a ejecutar \n",
      "En esta funcion\n"
     ]
    }
   ],
   "source": [
    "# Ejercicio correcto \n",
    "def myFuncionPython():\n",
    "    print(\"Este es un mensaje desde una funcion\")\n",
    "    print(\"Tengo varias lineas a ejecutar \")\n",
    "    print(\"En esta funcion\")\n",
    "\n",
    "# Una vez definida la funcion podemos utilizarla las veces que queramos\n",
    "myFuncionPython()\n",
    "myFuncionPython()\n",
    "myFuncionPython()\n",
    "myFuncionPython()"
   ]
  },
  {
   "cell_type": "code",
   "execution_count": 3,
   "metadata": {},
   "outputs": [
    {
     "name": "stdout",
     "output_type": "stream",
     "text": [
      "Hola: Rosalio, con apellido: Garcia\n",
      "Hola: Jorge, con apellido: Santana\n"
     ]
    },
    {
     "ename": "TypeError",
     "evalue": "miFuncionConParametros() missing 2 required positional arguments: 'nombre' and 'apellido'",
     "output_type": "error",
     "traceback": [
      "\u001b[1;31m---------------------------------------------------------------------------\u001b[0m",
      "\u001b[1;31mTypeError\u001b[0m                                 Traceback (most recent call last)",
      "Cell \u001b[1;32mIn[3], line 12\u001b[0m\n\u001b[0;32m      8\u001b[0m miFuncionConParametros(\u001b[39m\"\u001b[39m\u001b[39mJorge\u001b[39m\u001b[39m\"\u001b[39m, \u001b[39m\"\u001b[39m\u001b[39mSantana\u001b[39m\u001b[39m\"\u001b[39m)\n\u001b[0;32m     10\u001b[0m \u001b[39m# Si se intenta utilizar la funcion sin enviar los parametros, marca error\u001b[39;00m\n\u001b[0;32m     11\u001b[0m \u001b[39m# Porque espera dos parametros como informacion adicional\u001b[39;00m\n\u001b[1;32m---> 12\u001b[0m miFuncionConParametros()\n",
      "\u001b[1;31mTypeError\u001b[0m: miFuncionConParametros() missing 2 required positional arguments: 'nombre' and 'apellido'"
     ]
    }
   ],
   "source": [
    "# Envio de funuciones \n",
    "# Declaramos una funcion que recibe informacion y la utiliza en la ejecucion del programa\n",
    "def miFuncionConParametros(nombre, apellido):\n",
    "    print(f\"Hola: {nombre}, con apellido: {apellido}\")\n",
    "\n",
    "# Utilizamos la funcion enviando informacion como parametros\n",
    "miFuncionConParametros(\"Rosalio\", \"Garcia\")\n",
    "miFuncionConParametros(\"Jorge\", \"Santana\")\n",
    "\n",
    "# Si se intenta utilizar la funcion sin enviar los parametros, marca error\n",
    "# Porque espera dos parametros como informacion adicional\n",
    "miFuncionConParametros()"
   ]
  },
  {
   "cell_type": "code",
   "execution_count": 4,
   "metadata": {},
   "outputs": [
    {
     "name": "stdout",
     "output_type": "stream",
     "text": [
      "El valor de la suma es : 14 \n"
     ]
    }
   ],
   "source": [
    "# Sentencia Return\n",
    "# Definimos una funcion que nos permita sumar dos numeros\n",
    "def sumar(a,b ):\n",
    "    # Devolvemos el resultado de la suma a quien invoca la funcion\n",
    "    return a+b\n",
    "\n",
    "# El valor de la suma devuelto por la función lo asignamos a resultado\n",
    "resultado = sumar(5,9)\n",
    "print(f\"El valor de la suma es : {resultado} \")"
   ]
  },
  {
   "cell_type": "code",
   "execution_count": 5,
   "metadata": {},
   "outputs": [
    {
     "name": "stdout",
     "output_type": "stream",
     "text": [
      "El valor de la resta es : 7 \n",
      "El valor de la resta es : 0 \n"
     ]
    }
   ],
   "source": [
    "# Definimos una funcion que nos permita restar dos numeros,\n",
    "# Por defualt los inicializamos a valor cero\n",
    "# Opcionalmente podemos indicar el tipo de retorno que se espera mediante el oeprador flecha\n",
    "def restar(a = 0 ,b = 0 ) -> int:\n",
    "    # Devolvemos el resultado de la resta a quien invoca la funcion\n",
    "    return a-b\n",
    "\n",
    "\n",
    "resultado = restar(9,2)\n",
    "print(f\"El valor de la resta es : {resultado} \")\n",
    "\n",
    "\n",
    "# Como se esta indicando un valro por default de los parametros de la funcion resta\n",
    "# Ahora podemos invocar la funcion sin la necesidad de pasar parametros en la llamada a la funcion\n",
    "resultado = restar()\n",
    "print(f\"El valor de la resta es : {resultado} \")"
   ]
  },
  {
   "cell_type": "code",
   "execution_count": 6,
   "metadata": {},
   "outputs": [
    {
     "name": "stdout",
     "output_type": "stream",
     "text": [
      "El valor de la multiplicacion es : 18 \n"
     ]
    }
   ],
   "source": [
    "# Definimos una funcion que nos permita multiplicar dos numeros,\n",
    "# Por defualt los inicializamos a valor cero e indicamos una pista de que tipo de dato son\n",
    "# Opcionalmente podemos indicar el tipo de retorno que se espera mediante el oeprador flecha\n",
    "def multiplicar(a:int=0 ,b:int= 0 ) -> int:\n",
    "    # Devolvemos el resultado de la multiplicacion a quien invoca la funcion\n",
    "    return a*b\n",
    "\n",
    "\n",
    "resultado = multiplicar(9,2)\n",
    "print(f\"El valor de la multiplicacion es : {resultado} \")"
   ]
  },
  {
   "cell_type": "code",
   "execution_count": null,
   "metadata": {},
   "outputs": [],
   "source": [
    "# Argumentos variables en funciones \n",
    "# Definimos una funcion con lista de parametros variable\n",
    "def listarNombres(*nombres):\n",
    "    for nombre in nombres:\n",
    "        print(nombre)\n",
    "\n",
    "\n",
    "# Utilizamos la funcion y mandamos los argumentos variables\n",
    "listarNombres(\"Juan\", \"Luis\", \"Pedro\")\n",
    "listarNombres(\"Sara\", \"Nallely\")\n",
    "listarNombres(\"Un solo parametro\")"
   ]
  },
  {
   "cell_type": "code",
   "execution_count": 7,
   "metadata": {},
   "outputs": [
    {
     "name": "stdout",
     "output_type": "stream",
     "text": [
      "Llave:PK: valor:Primary key\n",
      "Llave:IDE: valor:Integrated development environment\n"
     ]
    }
   ],
   "source": [
    "# Argumento de tipo diccionario\n",
    "# Definimos una funcion que reciba un diccionario mediante el doble **\n",
    "def listarTerminos(**terminos):\n",
    "    for key, value in terminos.items():\n",
    "        print(f\"Llave:{key}: valor:{value}\")\n",
    "\n",
    "# La llave no debe ir entre comillas pero el valor si\n",
    "listarTerminos(PK=\"Primary key\", IDE=\"Integrated development environment\")"
   ]
  },
  {
   "cell_type": "code",
   "execution_count": null,
   "metadata": {},
   "outputs": [],
   "source": [
    "# Funcion recursiva\n",
    "# Llamada a funcion recursiva para calcular el factoria\n",
    "def factorial(numero):\n",
    "    if numero == 1:\n",
    "        return 1\n",
    "    else:\n",
    "        return numero * factorial(numero -1)\n",
    "\n",
    "\n",
    "resultado = factorial(5)\n",
    "print(f\" El factorial 5 es {resultado}\")"
   ]
  }
 ],
 "metadata": {
  "kernelspec": {
   "display_name": "Python 3",
   "language": "python",
   "name": "python3"
  },
  "language_info": {
   "codemirror_mode": {
    "name": "ipython",
    "version": 3
   },
   "file_extension": ".py",
   "mimetype": "text/x-python",
   "name": "python",
   "nbconvert_exporter": "python",
   "pygments_lexer": "ipython3",
   "version": "3.11.4"
  },
  "orig_nbformat": 4
 },
 "nbformat": 4,
 "nbformat_minor": 2
}
