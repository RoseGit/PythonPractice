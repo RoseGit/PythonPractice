{
 "cells": [
  {
   "cell_type": "code",
   "execution_count": 1,
   "metadata": {},
   "outputs": [
    {
     "name": "stdout",
     "output_type": "stream",
     "text": [
      "Condicion Falsa \n",
      "myVarNumero tiene asignado un valor \n",
      "myVarSinValor No tiene asignado un valor o es vacio\n"
     ]
    }
   ],
   "source": [
    "#Ejemplo de la sentencia If else \n",
    "# Partiendo de una respuesta de tipo booleancondicion = False\n",
    "condicion = False\n",
    "\n",
    "# Preguntamos si la condicion se cumple, puede ser una expresion mas compleja\n",
    "# El tabulador es importante porque Python detecta que es un bloque para ejecutar\n",
    "if condicion==True:\n",
    "    print(\"Condicion verdadera \")\n",
    "\n",
    "# Elif, Es parecido al if else de otros lenguajes\n",
    "elif condicion==False:\n",
    "    print(\"Condicion Falsa \")\n",
    "\n",
    "# No es obligatoria tener el else, pero para este ejemplo la colocamos\n",
    "# Nos sirve para ejecutar en caso de que no se cumpla alguna condición anterior\n",
    "else:\n",
    "    print(\"Condicion falsa\")\n",
    "   \n",
    "# Por default el if evalua si hay un valor en una variable\n",
    "# En este caso pregunta si myVarNumero tiene un valor\n",
    "myVarNumero = 10\n",
    "if myVarNumero:\n",
    "    print(\"myVarNumero tiene asignado un valor \")\n",
    "\n",
    "# Ejemplo parecido al anterior, solo que en este caso no se tiene un valor por lo tanto se ejecuta el else\n",
    "myVarSinValor = \"\"\n",
    "if myVarSinValor:\n",
    "    print(\"myVarSinValor tiene asignado un valor \")\n",
    "else:\n",
    "    print(\"myVarSinValor No tiene asignado un valor o es vacio\")"
   ]
  },
  {
   "cell_type": "code",
   "execution_count": 2,
   "metadata": {},
   "outputs": [
    {
     "name": "stdout",
     "output_type": "stream",
     "text": [
      "Condicion verdadera 1\n",
      "Condicion verdadera 2\n"
     ]
    }
   ],
   "source": [
    "# Ejemplo del operador ternario\n",
    "condifcion= True\n",
    "\n",
    "#Condicion if else simple\n",
    "if condifcion:\n",
    "    print(\"Condicion verdadera 1\")\n",
    "else:\n",
    "    print(\"Condicion falsa 1\")\n",
    "\n",
    "#Sintaxis simplificada(Operador ternario)\n",
    "print(\"Condicion verdadera 2\") if condifcion else print(\"Condicion falsa 2\")"
   ]
  }
 ],
 "metadata": {
  "kernelspec": {
   "display_name": "Python 3",
   "language": "python",
   "name": "python3"
  },
  "language_info": {
   "codemirror_mode": {
    "name": "ipython",
    "version": 3
   },
   "file_extension": ".py",
   "mimetype": "text/x-python",
   "name": "python",
   "nbconvert_exporter": "python",
   "pygments_lexer": "ipython3",
   "version": "3.11.4"
  },
  "orig_nbformat": 4
 },
 "nbformat": 4,
 "nbformat_minor": 2
}
