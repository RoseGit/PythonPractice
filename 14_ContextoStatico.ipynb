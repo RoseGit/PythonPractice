{
 "cells": [
  {
   "cell_type": "code",
   "execution_count": 1,
   "metadata": {},
   "outputs": [
    {
     "name": "stdout",
     "output_type": "stream",
     "text": [
      "Valor de variable de clase\n",
      "VValor variable instancia\n",
      "Valor de variable de clase\n",
      "Otro valor de variable de instancia \n",
      "Valor de variable de clase\n"
     ]
    }
   ],
   "source": [
    "class MiClase:\n",
    "\n",
    "    variable_de_clase = 'Valor de variable de clase'    \n",
    "\n",
    "    def __init__(self, variable_instancia) -> None:\n",
    "\n",
    "        # Crea una variable de instancia\n",
    "        self.variable_instancia = variable_instancia\n",
    "\n",
    "# Para acceder a una variable de clase no es necesario crear el objeto\n",
    "print(MiClase.variable_de_clase)\n",
    "\n",
    "# Para acceder a variable_instancia es necesario crear el objeto\n",
    "miClase = MiClase('VValor variable instancia')\n",
    "print(miClase.variable_instancia)\n",
    "\n",
    "# Los objetos creados pueden acceder a variable de clase\n",
    "print(miClase.variable_de_clase)\n",
    "\n",
    "# Creando otro objeto\n",
    "miClase2 = MiClase('Otro valor de variable de instancia ')\n",
    "print(miClase2.variable_instancia)\n",
    "print(miClase2.variable_de_clase)"
   ]
  },
  {
   "cell_type": "code",
   "execution_count": 2,
   "metadata": {},
   "outputs": [
    {
     "name": "stdout",
     "output_type": "stream",
     "text": [
      "Valor de variable de clase\n",
      "VValor variable instancia\n",
      "Valor de variable de clase\n",
      "Otro valor de variable de instancia \n",
      "Valor de variable de clase\n",
      "Valor de variable de clase 2\n"
     ]
    }
   ],
   "source": [
    "# Variables de clase al vuelo \n",
    "# En python se puede crear una nueva variable de clase al momento que se ocupe\n",
    "# Esta sintaxis no es muy común \n",
    "# Se puede acceder desde la misma clase o desde algún otro objeto \n",
    "\n",
    "class MiClase:\n",
    "\n",
    "    variable_de_clase = 'Valor de variable de clase'    \n",
    "\n",
    "    def __init__(self, variable_instancia) -> None:\n",
    "\n",
    "        # Crea una variable de instancia\n",
    "        self.variable_instancia = variable_instancia\n",
    "\n",
    "# Para acceder a una variable de clase no es necesario crear el objeto\n",
    "print(MiClase.variable_de_clase)\n",
    "\n",
    "# Para acceder a variable_instancia es necesario crear el objeto\n",
    "miClase = MiClase('VValor variable instancia')\n",
    "print(miClase.variable_instancia)\n",
    "\n",
    "# Los objetos creados pueden acceder a variable de clase\n",
    "print(miClase.variable_de_clase)\n",
    "\n",
    "# Creando otro objeto\n",
    "miClase2 = MiClase('Otro valor de variable de instancia ')\n",
    "print(miClase2.variable_instancia)\n",
    "print(miClase2.variable_de_clase)\n",
    "\n",
    "# Creamos un nueva variable de clase\n",
    "MiClase.variable_de_clase2 = 'Valor de variable de clase 2'\n",
    "print(miClase.variable_de_clase2)"
   ]
  },
  {
   "cell_type": "code",
   "execution_count": 3,
   "metadata": {},
   "outputs": [
    {
     "name": "stdout",
     "output_type": "stream",
     "text": [
      "Valor de variable de clase\n"
     ]
    }
   ],
   "source": [
    "# Metodos estaticos\n",
    "class MiClase:\n",
    "\n",
    "    variable_de_clase = 'Valor de variable de clase'    \n",
    "\n",
    "    def __init__(self, variable_instancia) -> None:\n",
    "\n",
    "        # Crea una variable de instancia\n",
    "        self.variable_instancia = variable_instancia\n",
    "\n",
    "    #Creamos un metodo estatico\n",
    "    @staticmethod\n",
    "    def metodo_estatico():\n",
    "        print(MiClase.variable_de_clase)\n",
    "\n",
    "        # si queremos acceder a la variable de la clase directamente, no se permite y marca error\n",
    "        #print(variable_de_clase)\n",
    "\n",
    "MiClase.metodo_estatico()"
   ]
  },
  {
   "cell_type": "code",
   "execution_count": 4,
   "metadata": {},
   "outputs": [
    {
     "name": "stdout",
     "output_type": "stream",
     "text": [
      "Valor de variable de clase\n"
     ]
    }
   ],
   "source": [
    "# Metodos de clase \n",
    "class MiClase:\n",
    "\n",
    "    variable_de_clase = 'Valor de variable de clase'    \n",
    "\n",
    "    def __init__(self, variable_instancia) -> None:\n",
    "\n",
    "        # Crea una variable de instancia\n",
    "        self.variable_instancia = variable_instancia\n",
    "\n",
    "    #Creamos un metodo estatico\n",
    "    @staticmethod\n",
    "    def metodo_estatico():\n",
    "        print(MiClase.variable_de_clase)\n",
    "\n",
    "        # si queremos acceder a la variable de la clase directamente, no se permite y marca error\n",
    "        #print(variable_de_clase)\n",
    "\n",
    "    @classmethod\n",
    "    def metodo_de_clase(cls):\n",
    "       \n",
    "        # Accedemos a variables aravez de referencia cls\n",
    "        print(cls.variable_de_clase)\n",
    "\n",
    "MiClase.metodo_de_clase()"
   ]
  },
  {
   "cell_type": "code",
   "execution_count": 5,
   "metadata": {},
   "outputs": [],
   "source": [
    "# Constantes\n",
    "# Realmente no existe el concepto de constante (No poder modificar el valor de la variable )\n",
    "# Es una convención y poder simular este concepto(Aunque al final si se puede modificar el valor )\n",
    "MI_CONSTANTE='Valor de mi constante'"
   ]
  },
  {
   "cell_type": "code",
   "execution_count": 6,
   "metadata": {},
   "outputs": [
    {
     "name": "stdout",
     "output_type": "stream",
     "text": [
      "Valor de mi constante\n",
      "Nuevo valor \n"
     ]
    }
   ],
   "source": [
    "# Imprimimos el valor de la constante\n",
    "print(MI_CONSTANTE)\n",
    "\n",
    "# Modificamos el valor de la constante\n",
    "MI_CONSTANTE = 'Nuevo valor '\n",
    "\n",
    "# Se modifica el valor por tanto no existen constantes realmente ya que modificamos su valor\n",
    "print(MI_CONSTANTE)"
   ]
  }
 ],
 "metadata": {
  "kernelspec": {
   "display_name": "Python 3",
   "language": "python",
   "name": "python3"
  },
  "language_info": {
   "codemirror_mode": {
    "name": "ipython",
    "version": 3
   },
   "file_extension": ".py",
   "mimetype": "text/x-python",
   "name": "python",
   "nbconvert_exporter": "python",
   "pygments_lexer": "ipython3",
   "version": "3.11.4"
  },
  "orig_nbformat": 4
 },
 "nbformat": 4,
 "nbformat_minor": 2
}
