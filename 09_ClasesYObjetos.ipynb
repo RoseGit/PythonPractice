{
 "cells": [
  {
   "cell_type": "code",
   "execution_count": 1,
   "metadata": {},
   "outputs": [
    {
     "name": "stdout",
     "output_type": "stream",
     "text": [
      "<class 'type'>\n"
     ]
    }
   ],
   "source": [
    "class Persona:\n",
    "    # Pass solo lo usamos para indicar que ya no habra mas procesamiento de datos\n",
    "    pass\n",
    "\n",
    "#Nos indica que Persona es de tipo class\n",
    "print(type(Persona)) "
   ]
  },
  {
   "cell_type": "code",
   "execution_count": 2,
   "metadata": {},
   "outputs": [
    {
     "name": "stdout",
     "output_type": "stream",
     "text": [
      "Juan\n",
      "Garcia\n",
      "28\n"
     ]
    }
   ],
   "source": [
    "# Se define la clase persona\n",
    "class Persona:\n",
    "\n",
    "    # __init__ Es similar al constructor de Java\n",
    "    # self es una referencia al objeto en si mismo, similar al this de java\n",
    "    def __init__(self) -> None:\n",
    "        self.nombre = 'Juan'\n",
    "        self.apellido ='Garcia'\n",
    "        self.edad= 28\n",
    "\n",
    "\n",
    "# Semanda llamar a init\n",
    "persona1 = Persona()\n",
    "print(persona1.nombre)\n",
    "print(persona1.apellido)\n",
    "print(persona1.edad)"
   ]
  },
  {
   "cell_type": "code",
   "execution_count": 3,
   "metadata": {},
   "outputs": [
    {
     "ename": "TypeError",
     "evalue": "Persona.__init__() missing 3 required positional arguments: 'nombre', 'apellido', and 'edad'",
     "output_type": "error",
     "traceback": [
      "\u001b[1;31m---------------------------------------------------------------------------\u001b[0m",
      "\u001b[1;31mTypeError\u001b[0m                                 Traceback (most recent call last)",
      "Cell \u001b[1;32mIn[3], line 13\u001b[0m\n\u001b[0;32m      9\u001b[0m         \u001b[39mself\u001b[39m\u001b[39m.\u001b[39medad\u001b[39m=\u001b[39m edad\n\u001b[0;32m     11\u001b[0m \u001b[39m# Semanda llamar a init\u001b[39;00m\n\u001b[0;32m     12\u001b[0m \u001b[39m# Arroja un error pues no se pasan los valores para nombre, apellido y edad\u001b[39;00m\n\u001b[1;32m---> 13\u001b[0m persona1 \u001b[39m=\u001b[39m Persona()\n\u001b[0;32m     14\u001b[0m \u001b[39mprint\u001b[39m(persona1\u001b[39m.\u001b[39mnombre)\n\u001b[0;32m     15\u001b[0m \u001b[39mprint\u001b[39m(persona1\u001b[39m.\u001b[39mapellido)\n",
      "\u001b[1;31mTypeError\u001b[0m: Persona.__init__() missing 3 required positional arguments: 'nombre', 'apellido', and 'edad'"
     ]
    }
   ],
   "source": [
    "# Se define la clase persona\n",
    "class Persona:\n",
    "\n",
    "    # en init se pueden pasar parametros \n",
    "    #self es una referencia al objeto en si mismo, similar al this de java\n",
    "    def __init__(self, nombre, apellido, edad) -> None:\n",
    "        self.nombre = nombre\n",
    "        self.apellido =apellido\n",
    "        self.edad= edad\n",
    "\n",
    "# Semanda llamar a init\n",
    "# Arroja un error pues no se pasan los valores para nombre, apellido y edad\n",
    "persona1 = Persona()\n",
    "print(persona1.nombre)\n",
    "print(persona1.apellido)\n",
    "print(persona1.edad)"
   ]
  },
  {
   "cell_type": "code",
   "execution_count": 4,
   "metadata": {},
   "outputs": [
    {
     "name": "stdout",
     "output_type": "stream",
     "text": [
      "Juan\n",
      "Perez\n",
      "28\n"
     ]
    }
   ],
   "source": [
    "# Ejercicio correcto \n",
    "# Se define la clase persona\n",
    "class Persona:\n",
    "\n",
    "\n",
    "    #self es una referencia al objeto en si mismo, similar al this de java\n",
    "    def __init__(self, nombre, apellido, edad) -> None:\n",
    "        self.nombre = nombre\n",
    "        self.apellido =apellido\n",
    "        self.edad= edad\n",
    "\n",
    "\n",
    "# Semanda llamar a init\n",
    "persona1 = Persona('Juan', 'Perez', 28)\n",
    "print(persona1.nombre)\n",
    "print(persona1.apellido)\n",
    "print(persona1.edad)"
   ]
  },
  {
   "cell_type": "code",
   "execution_count": 5,
   "metadata": {},
   "outputs": [
    {
     "name": "stdout",
     "output_type": "stream",
     "text": [
      "Juan\n",
      "Perez\n",
      "28\n",
      "Nohemi\n",
      "Huerta\n",
      "36\n"
     ]
    }
   ],
   "source": [
    "# Se define la clase persona\n",
    "class Persona:\n",
    "\n",
    "    #self es una referencia al objeto en si mismo, similar al this de java\n",
    "    def __init__(self, nombre, apellido, edad) -> None:\n",
    "        self.nombre = nombre\n",
    "        self.apellido =apellido\n",
    "        self.edad= edad\n",
    "\n",
    "# Semanda llamar a init\n",
    "persona1 = Persona('Juan', 'Perez', 28)\n",
    "print(persona1.nombre)\n",
    "print(persona1.apellido)\n",
    "print(persona1.edad)\n",
    "\n",
    "persona2 = Persona('Nohemi', 'Huerta', 36)\n",
    "print(persona2.nombre)\n",
    "print(persona2.apellido)\n",
    "print(persona2.edad)"
   ]
  },
  {
   "cell_type": "code",
   "execution_count": 6,
   "metadata": {},
   "outputs": [
    {
     "name": "stdout",
     "output_type": "stream",
     "text": [
      "Juan\n",
      "Perez\n",
      "28\n",
      "Nallely\n",
      "Huerta\n",
      "34\n",
      "Nohemi\n",
      "Huerta\n",
      "36\n"
     ]
    }
   ],
   "source": [
    "# Se define la clase persona\n",
    "class Persona:\n",
    "\n",
    "    #self es una referencia al objeto en si mismo, similar al this de java\n",
    "    def __init__(self, nombre, apellido, edad) -> None:\n",
    "        self.nombre = nombre\n",
    "        self.apellido =apellido\n",
    "        self.edad= edad\n",
    "\n",
    "\n",
    "# Semanda llamar a init\n",
    "persona1 = Persona('Juan', 'Perez', 28)\n",
    "print(persona1.nombre)\n",
    "print(persona1.apellido)\n",
    "print(persona1.edad)\n",
    "\n",
    "\n",
    "# Modificamos los datos de la persona\n",
    "persona1.nombre='Nallely'\n",
    "persona1.apellido='Huerta'\n",
    "persona1.edad=34\n",
    "print(persona1.nombre)\n",
    "print(persona1.apellido)\n",
    "print(persona1.edad)\n",
    "\n",
    "\n",
    "persona2 = Persona('Nohemi', 'Huerta', 36)\n",
    "print(persona2.nombre)\n",
    "print(persona2.apellido)\n",
    "print(persona2.edad)"
   ]
  },
  {
   "cell_type": "code",
   "execution_count": 7,
   "metadata": {},
   "outputs": [
    {
     "name": "stdout",
     "output_type": "stream",
     "text": [
      "Persona: Nallely Huerta edad de 34 anios\n",
      "Persona: Nohemi Huerta edad de 36 anios\n"
     ]
    }
   ],
   "source": [
    "# Se define la clase persona\n",
    "class Persona:\n",
    "\n",
    "\n",
    "    #self es una referencia al objeto en si mismo, similar al this de java\n",
    "    def __init__(self, nombre, apellido, edad) -> None:\n",
    "        self.nombre = nombre\n",
    "        self.apellido =apellido\n",
    "        self.edad= edad\n",
    "\n",
    "\n",
    "    # Creamos el metodo de instancia de clase\n",
    "    def mostratDetalle(self):\n",
    "        print(f\"Persona: {self.nombre} {self.apellido} edad de {self.edad} anios\")\n",
    "\n",
    "\n",
    "\n",
    "\n",
    "# Semanda llamar a init\n",
    "persona1 = Persona('Juan', 'Perez', 28)\n",
    "\n",
    "\n",
    "# Modificamos los datos de la persona\n",
    "persona1.nombre='Nallely'\n",
    "persona1.apellido='Huerta'\n",
    "persona1.edad=34\n",
    "# Llamamos al metodo de clase par aimprimir la informacion\n",
    "persona1.mostratDetalle()\n",
    "\n",
    "\n",
    "# Llamamos al metodo de clase par aimprimir la informacion\n",
    "persona2 = Persona('Nohemi', 'Huerta', 36)\n",
    "persona2.mostratDetalle()"
   ]
  },
  {
   "cell_type": "code",
   "execution_count": 8,
   "metadata": {},
   "outputs": [
    {
     "name": "stdout",
     "output_type": "stream",
     "text": [
      "Persona: Nallely Huerta edad de 34 anios\n",
      "Persona: Nohemi Huerta edad de 36 anios\n"
     ]
    }
   ],
   "source": [
    "# Se puede sustituir self por this y no hay problema, pero se recomienda dejar como self\n",
    "# Se define la clase persona\n",
    "class Persona:\n",
    "\n",
    "\n",
    "    #self es una referencia al objeto en si mismo, similar al this de java\n",
    "    def __init__(this, nombre, apellido, edad) -> None:\n",
    "        this.nombre = nombre\n",
    "        this.apellido =apellido\n",
    "        this.edad= edad\n",
    "\n",
    "\n",
    "    # Creamos el metodo de instancia de clase\n",
    "    def mostratDetalle(self):\n",
    "        print(f\"Persona: {self.nombre} {self.apellido} edad de {self.edad} anios\")\n",
    "\n",
    "# Se manda llamar a init\n",
    "persona1 = Persona('Juan', 'Perez', 28)\n",
    "\n",
    "# Modificamos los datos de la persona\n",
    "persona1.nombre='Nallely'\n",
    "persona1.apellido='Huerta'\n",
    "persona1.edad=34\n",
    "\n",
    "#Podemos agregar atriubutos sin embargo estos solo seran visibles en el objeto creado\n",
    "persona1.telefono=\"29874326785\"\n",
    "\n",
    "# Llamamos al metodo de clase par aimprimir la informacion\n",
    "persona1.mostratDetalle()\n",
    "\n",
    "# Llamamos al metodo de clase par aimprimir la informacion\n",
    "persona2 = Persona('Nohemi', 'Huerta', 36)\n",
    "persona2.mostratDetalle()"
   ]
  },
  {
   "cell_type": "code",
   "execution_count": 9,
   "metadata": {},
   "outputs": [
    {
     "name": "stdout",
     "output_type": "stream",
     "text": [
      "Persona: Nallely Huerta edad de 34 anios, (4, 5, 6, 7, 8, 9), {'m': 'manzana', 'p': 'Pera'}\n",
      "Persona: Nohemi Huerta edad de 36 anios, (), {}\n"
     ]
    }
   ],
   "source": [
    "# Se define la clase persona\n",
    "class Persona:\n",
    "\n",
    "\n",
    "    #self es una referencia al objeto en si mismo, similar al this de java\n",
    "    '''\n",
    "    Esta es un ejemplo de comentario y la funcion init nos permite inicializar los atributos\n",
    "    '''\n",
    "    # Podemos indicar que después de los parámetros en el método initi, indicar que recibe mas paramentos o incluso indicar que recibe datos de tipo diccionario \n",
    "    def __init__(this, nombre, apellido, edad, *args, **kwargs) -> None:\n",
    "        this.nombre = nombre\n",
    "        this.apellido =apellido\n",
    "        this.edad= edad\n",
    "        this.valoresTupla=args\n",
    "        this.terminoDiccionario=kwargs\n",
    "\n",
    "\n",
    "    # Creamos el metodo de instancia de clase\n",
    "    def mostratDetalle(self):\n",
    "        print(f\"Persona: {self.nombre} {self.apellido} edad de {self.edad} anios, {self.valoresTupla}, {self.terminoDiccionario}\")\n",
    "\n",
    "# Semanda llamar a init\n",
    "persona1 = Persona('Juan', 'Perez', 28, 4,5,6,7,8,9,m='manzana', p='Pera')\n",
    "\n",
    "\n",
    "# Modificamos los datos de la persona\n",
    "persona1.nombre='Nallely'\n",
    "persona1.apellido='Huerta'\n",
    "persona1.edad=34\n",
    "\n",
    "\n",
    "# Llamamos al metodo de clase par aimprimir la informacion\n",
    "persona1.mostratDetalle()\n",
    "\n",
    "\n",
    "# Llamamos al metodo de clase par aimprimir la informacion\n",
    "persona2 = Persona('Nohemi', 'Huerta', 36)\n",
    "persona2.mostratDetalle()"
   ]
  }
 ],
 "metadata": {
  "kernelspec": {
   "display_name": "Python 3",
   "language": "python",
   "name": "python3"
  },
  "language_info": {
   "codemirror_mode": {
    "name": "ipython",
    "version": 3
   },
   "file_extension": ".py",
   "mimetype": "text/x-python",
   "name": "python",
   "nbconvert_exporter": "python",
   "pygments_lexer": "ipython3",
   "version": "3.11.4"
  },
  "orig_nbformat": 4
 },
 "nbformat": 4,
 "nbformat_minor": 2
}
