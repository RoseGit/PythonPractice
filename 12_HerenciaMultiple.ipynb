{
 "cells": [
  {
   "cell_type": "code",
   "execution_count": 1,
   "metadata": {},
   "outputs": [],
   "source": [
    "#FiguraGeometrica.py\n",
    "\n",
    "class FiguraGeometrica:\n",
    "\n",
    "\n",
    "    def __init__(self, ancho, alto) -> None:\n",
    "        self.ancho = ancho\n",
    "        self.alto = alto"
   ]
  },
  {
   "cell_type": "code",
   "execution_count": 2,
   "metadata": {},
   "outputs": [],
   "source": [
    "# Color.py\n",
    "class Color:\n",
    "\n",
    "\n",
    "    def __init__(self, color) -> None:\n",
    "        self.color = color"
   ]
  },
  {
   "cell_type": "code",
   "execution_count": 3,
   "metadata": {},
   "outputs": [],
   "source": [
    "# El orden en que se agregan las clases es importante\n",
    "# Cuadrado recibe las caracteristicas tanto de la clase FiguraGeometrica como Color\n",
    "class Cuadrado(FiguraGeometrica, Color):\n",
    "\n",
    "    def __init__(self, lado , color) -> None:\n",
    "        # Para mandar llamar al contructor padre del FiguraGeometrica como de Color se puede hacer de la siguiente manera\n",
    "        #super().__init__(lado,lado)\n",
    "        #super().__init__(color)\n",
    "\n",
    "        #Sin embargo se recomienda esta forma en herencia multiple\n",
    "        FiguraGeometrica.__init__(self, lado, lado)\n",
    "        Color.__init__(self, color)\n",
    "\n",
    "    # Definimos un metodo para calcular el area\n",
    "    def calcularArea(self):\n",
    "        return self.ancho * self.alto\n",
    "   "
   ]
  },
  {
   "cell_type": "code",
   "execution_count": 4,
   "metadata": {},
   "outputs": [
    {
     "name": "stdout",
     "output_type": "stream",
     "text": [
      "5\n",
      "5\n",
      "rojo\n",
      "25\n",
      "[<class '__main__.Cuadrado'>, <class '__main__.FiguraGeometrica'>, <class '__main__.Color'>, <class 'object'>]\n"
     ]
    }
   ],
   "source": [
    "cuadrado1 = Cuadrado(5, 'rojo')\n",
    "print(cuadrado1.ancho)\n",
    "print(cuadrado1.alto)\n",
    "print(cuadrado1.color)\n",
    "\n",
    "print(cuadrado1.calcularArea())\n",
    "\n",
    "# Nos sirve para saber que clases se llaman y en que orden\n",
    "print(Cuadrado.mro())"
   ]
  }
 ],
 "metadata": {
  "kernelspec": {
   "display_name": "Python 3",
   "language": "python",
   "name": "python3"
  },
  "language_info": {
   "codemirror_mode": {
    "name": "ipython",
    "version": 3
   },
   "file_extension": ".py",
   "mimetype": "text/x-python",
   "name": "python",
   "nbconvert_exporter": "python",
   "pygments_lexer": "ipython3",
   "version": "3.11.4"
  },
  "orig_nbformat": 4
 },
 "nbformat": 4,
 "nbformat_minor": 2
}
