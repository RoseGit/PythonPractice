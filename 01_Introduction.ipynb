{
 "cells": [
  {
   "cell_type": "markdown",
   "metadata": {},
   "source": [
    "Introduccion\n",
    "\n",
    "- Características generales de Python\n",
    "\t- Es muy popular debido a que se utiliza para crear múltiples sistemas de propósito general \n",
    "\t- Desde desarrollo Web, ciencia de datos, aplicaciones de escritorio, inteligencia artificial, Machine learning, etc.\n",
    "\t- Es multi-plataforma, independiente del sistema operativo \n",
    "\t- Simplicidad de sintaxias como Java de fuerte tipado \n",
    "\t- Tipos dinamicos, lo que lo hace mas simple\n",
    "\t- Es un lenguaje interpretado\n",
    "\n",
    "    - El IDE\n",
    "\t- se recomienda utilizar PyCharm \n",
    "\n",
    "- Los archivos de Python\n",
    "\t- Los archivos creados deben tener extension .py\n",
    "\n",
    "    - Hola mundo con Python, modificando el archivo main.py "
   ]
  },
  {
   "cell_type": "code",
   "execution_count": 1,
   "metadata": {},
   "outputs": [
    {
     "name": "stdout",
     "output_type": "stream",
     "text": [
      "Hola mundo con python\n"
     ]
    }
   ],
   "source": [
    "print(\"Hola mundo con python\")"
   ]
  },
  {
   "cell_type": "markdown",
   "metadata": {},
   "source": [
    "- Ejecución del programa \n",
    "\t- Para ejecutar un programa puede hacerse desde la terminal con el siguiente comando \n",
    "\t\t- D:/bin/Python39/python.exe PATH_TO_MY_FILE_PYTHON\\main.py\n",
    "\n",
    "- Comentarios en Python \n",
    "\t- Son lineas que no se ejecutan con el programa, solo nos sirven para dar claridad al codigo\n",
    "\t- Existen comentarios de una sola linea por ejemplo "
   ]
  },
  {
   "cell_type": "code",
   "execution_count": 1,
   "metadata": {},
   "outputs": [
    {
     "name": "stdout",
     "output_type": "stream",
     "text": [
      "Hola mundo con python\n"
     ]
    }
   ],
   "source": [
    "# Este es un comentario, con la siguiente instrucción imprimo un mensaje por consola\n",
    "print(\"Hola mundo con python\")"
   ]
  },
  {
   "cell_type": "markdown",
   "metadata": {},
   "source": [
    "Existen comentarios multi-linea"
   ]
  },
  {
   "cell_type": "code",
   "execution_count": 1,
   "metadata": {},
   "outputs": [
    {
     "name": "stdout",
     "output_type": "stream",
     "text": [
      "Hola mundo python\n"
     ]
    }
   ],
   "source": [
    "\"\"\" este es un comentario\n",
    "que esta escrito en multiples lineas\n",
    "con la siguiente instrucción imprimo un mensaje por consola\"\"\"\n",
    "print(\"Hola mundo python\")\n",
    "\n",
    "#Fin del programa, comentario simple"
   ]
  }
 ],
 "metadata": {
  "kernelspec": {
   "display_name": "Python 3",
   "language": "python",
   "name": "python3"
  },
  "language_info": {
   "codemirror_mode": {
    "name": "ipython",
    "version": 3
   },
   "file_extension": ".py",
   "mimetype": "text/x-python",
   "name": "python",
   "nbconvert_exporter": "python",
   "pygments_lexer": "ipython3",
   "version": "3.11.4"
  },
  "orig_nbformat": 4
 },
 "nbformat": 4,
 "nbformat_minor": 2
}
