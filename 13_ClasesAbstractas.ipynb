{
 "cells": [
  {
   "cell_type": "code",
   "execution_count": 2,
   "metadata": {},
   "outputs": [],
   "source": [
    "# ABS Abstract base class\n",
    "# ABC es una clase que nos permite indicar que nuestra clase es abstracta y por tanto no podran crearse objetos a partir de esta\n",
    "# El decorador abstractmethod nos sirve para indicar que metodo es abstractoy y por tanto las clases hijas deben implementarlo\n",
    "from abc import ABC, abstractmethod\n",
    "\n",
    "class FiguraGeometrica(ABC):\n",
    "\n",
    "    def __init__(self, ancho, alto) -> None:\n",
    "        self.ancho = ancho\n",
    "        self.alto = alto\n",
    "\n",
    "    @abstractmethod\n",
    "    def calcularArea(self):\n",
    "        pass"
   ]
  },
  {
   "cell_type": "code",
   "execution_count": 3,
   "metadata": {},
   "outputs": [
    {
     "ename": "TypeError",
     "evalue": "Can't instantiate abstract class FiguraGeometrica with abstract method calcularArea",
     "output_type": "error",
     "traceback": [
      "\u001b[1;31m---------------------------------------------------------------------------\u001b[0m",
      "\u001b[1;31mTypeError\u001b[0m                                 Traceback (most recent call last)",
      "Cell \u001b[1;32mIn[3], line 2\u001b[0m\n\u001b[0;32m      1\u001b[0m \u001b[39m# Esto nos arrojaria un error \u001b[39;00m\n\u001b[1;32m----> 2\u001b[0m figura \u001b[39m=\u001b[39m FiguraGeometrica()\n",
      "\u001b[1;31mTypeError\u001b[0m: Can't instantiate abstract class FiguraGeometrica with abstract method calcularArea"
     ]
    }
   ],
   "source": [
    "# Esto nos arrojaria un error \n",
    "figura = FiguraGeometrica()"
   ]
  },
  {
   "cell_type": "code",
   "execution_count": 5,
   "metadata": {},
   "outputs": [],
   "source": [
    "class Color:\n",
    "\n",
    "\n",
    "    def __init__(self, color) -> None:\n",
    "        self.color = color"
   ]
  },
  {
   "cell_type": "code",
   "execution_count": 6,
   "metadata": {},
   "outputs": [],
   "source": [
    "# El orden en que se agregan las clases es importante\n",
    "# Cuadrado recibe las caracteristicas tanto de la clase FiguraGeometrica como Color\n",
    "class Cuadrado(FiguraGeometrica, Color):\n",
    "\n",
    "    def __init__(self, lado , color) -> None:\n",
    "        # Para mandar llamar al contructor padre del FiguraGeometrica como de Color se puede hacer de la siguiente manera\n",
    "        #super().__init__(lado,lado)\n",
    "        #super().__init__(color)\n",
    "\n",
    "        #Sin embargo se recomienda esta forma en herencia multiple\n",
    "        FiguraGeometrica.__init__(self, lado, lado)\n",
    "        Color.__init__(self, color)\n",
    "\n",
    "    # Se comenta para efectos de prueba, manda un error indicando que no se ha implementado el metodo calcularArea definido en FiguraGeometrica\n",
    "    # def calcularArea(self):\n",
    "    #     return self.ancho * self.alto"
   ]
  }
 ],
 "metadata": {
  "kernelspec": {
   "display_name": "Python 3",
   "language": "python",
   "name": "python3"
  },
  "language_info": {
   "codemirror_mode": {
    "name": "ipython",
    "version": 3
   },
   "file_extension": ".py",
   "mimetype": "text/x-python",
   "name": "python",
   "nbconvert_exporter": "python",
   "pygments_lexer": "ipython3",
   "version": "3.11.4"
  },
  "orig_nbformat": 4
 },
 "nbformat": 4,
 "nbformat_minor": 2
}
