{
 "cells": [
  {
   "cell_type": "code",
   "execution_count": 1,
   "metadata": {},
   "outputs": [
    {
     "name": "stdout",
     "output_type": "stream",
     "text": [
      "<class 'int'>\n",
      "<class 'str'>\n",
      "<class 'str'>\n",
      "<class 'float'>\n",
      "<class 'bool'>\n"
     ]
    }
   ],
   "source": [
    "#Para saber de que tipo de dato es una variable, podemos usar la función type\n",
    "\n",
    "# Variable tipo Integer\n",
    "myVar = 10;\n",
    "print(type(myVar))\n",
    "\n",
    "# Variable de tipo cadena\n",
    "myVar = \"Hola mundo doble\"\n",
    "print(type(myVar))\n",
    "\n",
    "# Variable de tipo cadena\n",
    "myVar = 'Hola mundo simple'\n",
    "print(type(myVar))\n",
    "\n",
    "# Variable de tipo float\n",
    "myVar = 10.5\n",
    "print(type(myVar))\n",
    "\n",
    "# Variable de tipo Boolean, los valores True y False son en mayuscula la primera letra\n",
    "myVar = True\n",
    "print(type(myVar))"
   ]
  },
  {
   "cell_type": "code",
   "execution_count": 2,
   "metadata": {},
   "outputs": [
    {
     "name": "stdout",
     "output_type": "stream",
     "text": [
      "Dando pistas de tipo de dato de variable\n",
      "<class 'str'>\n",
      "<class 'int'>\n",
      "<class 'bool'>\n"
     ]
    }
   ],
   "source": [
    "print(\"Dando pistas de tipo de dato de variable\")\n",
    "\n",
    "# Dando una pista de que el tipo de dato de la variable es una Cadena \n",
    "myVar: str = \"Hola mundo\"\n",
    "print(type(myVar))\n",
    "\n",
    "# Dando una pista de que el tipo de dato de la variable es un Integer \n",
    "myVar: int = 10\n",
    "print(type(myVar))\n",
    "\n",
    "# Aunque doy una pista de que el tipo de dato de la variable es un Integer, bien puedo asignarle un valor boolean\n",
    "# Totalmente permitido y valido \n",
    "myVar: int = True\n",
    "print(type(myVar))"
   ]
  },
  {
   "cell_type": "code",
   "execution_count": 3,
   "metadata": {},
   "outputs": [
    {
     "name": "stdout",
     "output_type": "stream",
     "text": [
      "Esto es un mensaje de Mi banda favorita:  Aerosmith En el curso de python\n"
     ]
    }
   ],
   "source": [
    "# Para concatenar cadenas de caracteres se usa el simbolo +\n",
    "message = \"Mi banda favorita: \"\n",
    "band = \"Aerosmith\"\n",
    "print(\"Esto es un mensaje de \"+message + \" \"+ band +\" En el curso de python\")"
   ]
  },
  {
   "cell_type": "code",
   "execution_count": 5,
   "metadata": {},
   "outputs": [
    {
     "name": "stdout",
     "output_type": "stream",
     "text": [
      "Esto es un mensaje de  Mi banda favorita:  Aerosmith En el curso de python\n"
     ]
    }
   ],
   "source": [
    "# Tambien la funcion print permite imprimir varias variables separadas por comas de la siguiente manera \n",
    "comentario = \"En el curso de python\"\n",
    "print(\"Esto es un mensaje de \", message, band, comentario )"
   ]
  },
  {
   "cell_type": "code",
   "execution_count": 6,
   "metadata": {},
   "outputs": [
    {
     "name": "stdout",
     "output_type": "stream",
     "text": [
      "12\n",
      "3\n"
     ]
    }
   ],
   "source": [
    "# los valores no son numericos, son cadenas por tanto no se pueden sumar\n",
    "numero1=\"1\"\n",
    "numero2=\"2\"\n",
    "# Imprime el numero 12 y no 3\n",
    "print(numero1+numero2)\n",
    "\n",
    "\n",
    "#Para poder sumar necesitamos convertirlos a numero con la funcion int\n",
    "numero1=\"1\"\n",
    "numero2=\"2\"\n",
    "# Imprime el numero no 3 y no 12\n",
    "print(int(numero1)+int(numero2))"
   ]
  },
  {
   "cell_type": "code",
   "execution_count": 7,
   "metadata": {},
   "outputs": [
    {
     "name": "stdout",
     "output_type": "stream",
     "text": [
      "False\n",
      "True\n",
      "False\n"
     ]
    }
   ],
   "source": [
    "# Con las expresiones booleanas nos permite tomar desiciones y solo acpeta dos valores True o False\n",
    "myVar = False\n",
    "print(myVar)\n",
    "\n",
    "\n",
    "#Imprime verdadero porque 3 es Mayor que dos\n",
    "myVar = 3 > 2\n",
    "print(myVar)\n",
    "\n",
    "\n",
    "#Imprime False porque dos no es mayor que 3\n",
    "myVar = 2 > 3\n",
    "print(myVar)"
   ]
  },
  {
   "cell_type": "code",
   "execution_count": 8,
   "metadata": {},
   "outputs": [
    {
     "name": "stdout",
     "output_type": "stream",
     "text": [
      "Escribiste:  rose\n",
      "El resultado es str 38\n",
      "El resultado es int 17\n",
      "Fin del programa \n"
     ]
    }
   ],
   "source": [
    "# funcion input para procesar la peticion del usuario\n",
    "resultado = input(\"Introduce un mensaje \")\n",
    "print(\"Escribiste: \", resultado)\n",
    "\n",
    "\n",
    "#La funcion de input nos retorna lo que escribe el usuario en fomrato String\n",
    "numero1 =input(\"Escribe primer numero:\")\n",
    "numero2 =input(\"Escribe segundo numero:\")\n",
    "resultadoSuma = numero1+numero2\n",
    "print(\"El resultado es str\", resultadoSuma)\n",
    "\n",
    "\n",
    "# Para poder hacer la suma adecuadamente, lo debemos convertir a entero de la siguiente manera\n",
    "numero1 =int(input(\"Escribe primer numero:\"))\n",
    "numero2 =int(input(\"Escribe segundo numero:\"))\n",
    "resultadoSuma = numero1+numero2\n",
    "print(\"El resultado es int\", resultadoSuma)\n",
    "print(\"Fin del programa \")"
   ]
  }
 ],
 "metadata": {
  "kernelspec": {
   "display_name": "Python 3",
   "language": "python",
   "name": "python3"
  },
  "language_info": {
   "codemirror_mode": {
    "name": "ipython",
    "version": 3
   },
   "file_extension": ".py",
   "mimetype": "text/x-python",
   "name": "python",
   "nbconvert_exporter": "python",
   "pygments_lexer": "ipython3",
   "version": "3.11.4"
  },
  "orig_nbformat": 4
 },
 "nbformat": 4,
 "nbformat_minor": 2
}
