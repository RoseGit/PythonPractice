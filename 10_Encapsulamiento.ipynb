{
 "cells": [
  {
   "cell_type": "code",
   "execution_count": null,
   "metadata": {},
   "outputs": [],
   "source": [
    "# Para indicar que los atributos en Python no deben de accederse directamente, se coloca un guion bajo al inicio del atributo \n",
    "# Sin embargo aun con el guion bajo indicado en los atributos, podemos acceder e incluso modificar los valores, esto no es lo recomendado en producción\n",
    "class Persona:\n",
    "\n",
    "    # Indicamos que no se deberia de acceder a los atributos que inician con guion-bajo\n",
    "    def __init__(this, nombre, apellido, edad) -> None:\n",
    "        this._nombre = nombre\n",
    "        this._apellido =apellido\n",
    "        this._edad= edad\n",
    "   \n",
    "    # Creamos el metodo de instancia de clase\n",
    "    def mostratDetalle(self):\n",
    "        print(f\"Persona: {self._nombre} {self._apellido} edad de {self._edad} anios\")\n",
    "\n",
    "# Creamos una persona inicial de nombre Juan\n",
    "persona1 = Persona('Juan', 'Perez', 28,)\n",
    "\n",
    "# Esto no deberia de hacerse, ya que marcamos el guin bajo los atributos\n",
    "# De cualquier forma podemos acceder e incluso modificar los valores\n",
    "persona1._nombre='Nallely'\n",
    "persona1._apellido='Huerta'\n",
    "persona1._edad=34\n",
    "\n",
    "persona1.mostratDetalle()"
   ]
  },
  {
   "cell_type": "code",
   "execution_count": null,
   "metadata": {},
   "outputs": [],
   "source": [
    "# Si queremos ser mas restrictivos podemos utilizar el doble guion bajo \n",
    "# Nos indica que no se puede modificar, aunque se intente acceden directamente a los atributos de la clase\n",
    "class Persona:\n",
    "\n",
    "    # Indicamos que no se deberia de acceder a los atributos que inician con guion-bajo\n",
    "    def __init__(this, nombre, apellido, edad) -> None:\n",
    "        # Restringimos el cambio de nombre, solo la clase puede modificarlo\n",
    "        this.__nombre = nombre\n",
    "\n",
    "        # Estos si se pueden modificar, aunque no deberian\n",
    "        this._apellido =apellido\n",
    "        this._edad= edad\n",
    "   \n",
    "    # Creamos el metodo de instancia de clase\n",
    "    def mostratDetalle(self):\n",
    "        print(f\"Persona: {self.__nombre} {self._apellido} edad de {self._edad} anios\")\n",
    "\n",
    "# Creamos una persona inicial de nombre Juan\n",
    "persona1 = Persona('Juan', 'Perez', 28,)\n",
    "\n",
    "# No se puede modificar nombre pero si apellido y edad\n",
    "persona1.__nombre='Nallely'\n",
    "persona1._apellido='Huerta'\n",
    "persona1._edad=34\n",
    "\n",
    "persona1.mostratDetalle()"
   ]
  },
  {
   "cell_type": "code",
   "execution_count": 1,
   "metadata": {},
   "outputs": [
    {
     "name": "stdout",
     "output_type": "stream",
     "text": [
      "Juan\n",
      "Persona: Nallely Perez edad de 28 anios\n"
     ]
    }
   ],
   "source": [
    "# Con esta practica aseguramos que solo se lean y se modifiquen los valores a traves  de los métodos que ofrece la clase \n",
    "class Persona:\n",
    "\n",
    "\n",
    "    # Indicamos que no se deberia de acceder a los atributos que inician con guion-bajo\n",
    "    def __init__(this, nombre, apellido, edad) -> None:\n",
    "        # Restringimos el cambio de nombre, solo la clase puede modificarlo\n",
    "        this.__nombre = nombre\n",
    "\n",
    "\n",
    "        # Estos si se pueden modificar, aunque no deberian\n",
    "        this._apellido =apellido\n",
    "        this._edad= edad\n",
    "   \n",
    "    # Creamos el metodo de instancia de clase\n",
    "    def mostratDetalle(self):\n",
    "        print(f\"Persona: {self.__nombre} {self._apellido} edad de {self._edad} anios\")\n",
    "\n",
    "\n",
    "    #Definimos el metodo get\n",
    "    @property\n",
    "    def nombre(self):\n",
    "        return self.__nombre\n",
    "\n",
    "\n",
    "    # Definimos el metodo set(nombre_metodo_getter.setter)\n",
    "    @nombre.setter\n",
    "    def nombre(self, nombre):\n",
    "        self.__nombre = nombre\n",
    "\n",
    "\n",
    "# Creamos una persona inicial de nombre Juan\n",
    "persona1 = Persona('Juan', 'Perez', 28,)\n",
    "\n",
    "\n",
    "# Con el metodo get devolvemos el valor del atributo __nombre\n",
    "print(persona1.nombre)\n",
    "\n",
    "\n",
    "# Ahora modificamos el atributo mediante el método set\n",
    "persona1.nombre = 'Nallely'\n",
    "persona1.mostratDetalle()"
   ]
  },
  {
   "cell_type": "code",
   "execution_count": 2,
   "metadata": {},
   "outputs": [
    {
     "name": "stdout",
     "output_type": "stream",
     "text": [
      "Persona: Karla Gomez edad de 23 anios\n",
      "__main__\n"
     ]
    }
   ],
   "source": [
    "class PruebaPersona:\n",
    "    persona1 = Persona('Karla', 'Gomez', 23)\n",
    "    persona1.mostratDetalle()\n",
    "\n",
    "    # Nos permite saber a partir de que modulo se esta ejecutando nuestro programa\n",
    "    print(__name__)"
   ]
  },
  {
   "cell_type": "code",
   "execution_count": 3,
   "metadata": {},
   "outputs": [
    {
     "name": "stdout",
     "output_type": "stream",
     "text": [
      "Persona: Nallely Huerta edad de 34 anios\n"
     ]
    }
   ],
   "source": [
    "#Destructores de Python \n",
    "# Nos permite liberar memoria cuando los objetos ya no se utilizan \n",
    "# Se manda llamar de manera automatica\n",
    "# Podemos sobreescribir el metodo __del__ para agregar informacion del objeto que se elimina \n",
    "class Persona:\n",
    "\n",
    "\n",
    "    def __init__(self, nombre, apellido, edad) -> None:\n",
    "        self.__nombre = nombre\n",
    "        self.__apellido =apellido\n",
    "        self.__edad = edad\n",
    "\n",
    "\n",
    "    def mostratDetalle(self):\n",
    "        print(f\"Persona: {self.__nombre} {self.__apellido} edad de {self.__edad} anios\")\n",
    "\n",
    "\n",
    "    # Sobre escribimos el comportamiento cuando se elimina a una persona, en este caso mostramos informacion adicional\n",
    "    def __del__(self):\n",
    "        print(f\"Persona Eliminada: {self.__nombre} {self.__apellido} edad de {self.__edad} anios\")\n",
    "\n",
    "\n",
    "    @property\n",
    "    def nombre(self):\n",
    "        return self.__nombre\n",
    "\n",
    "\n",
    "    @nombre.setter\n",
    "    def nombre(self, nombre):\n",
    "        self.__nombre = nombre\n",
    "\n",
    "\n",
    "    @property\n",
    "    def apellido(self):\n",
    "        return self.__apellido\n",
    "\n",
    "\n",
    "    @apellido.setter\n",
    "    def apellido(self, apellido):\n",
    "        self.__apellido = apellido\n",
    "\n",
    "\n",
    "    @property\n",
    "    def edad(self):\n",
    "        return self.__edad\n",
    "\n",
    "\n",
    "    @edad.setter\n",
    "    def edad(self, edad):\n",
    "        self.__edad = edad\n",
    "\n",
    "\n",
    "if __name__ == '__main__':\n",
    "    # Creamos una persona inicial de nombre Juan\n",
    "    persona1 = Persona('Juan', 'Perez', 28,)\n",
    "\n",
    "\n",
    "    # Ahora modificamos el atributo mediante el método set\n",
    "    persona1.nombre = 'Nallely'\n",
    "    persona1.apellido = 'Huerta'\n",
    "    persona1.edad = 34\n",
    "    persona1.mostratDetalle()"
   ]
  },
  {
   "cell_type": "code",
   "execution_count": 4,
   "metadata": {},
   "outputs": [
    {
     "name": "stdout",
     "output_type": "stream",
     "text": [
      "---------------Creacion de objetos----------------\n",
      "Persona: Karla Gomez edad de 23 anios\n",
      "-----------------Eliminado Objeto-----------------\n",
      "Persona Eliminada: Karla Gomez edad de 23 anios\n"
     ]
    }
   ],
   "source": [
    "class PruebaPersona:\n",
    "\n",
    "\n",
    "    # Solo formato para la consola agrega el mensaje y aniade 50 caracteres a la izquierda y derecha y centra el texto\n",
    "    print(\"Creacion de objetos\".center(50,'-'))\n",
    "    persona1 = Persona('Karla', 'Gomez', 23)\n",
    "    persona1.mostratDetalle()\n",
    "\n",
    "\n",
    "    # Eliminamos de manera explicicta el objeto y se manda llamar al destructor de objetos __del__\n",
    "    print(\"Eliminado Objeto\".center(50,'-'))\n",
    "    del persona1"
   ]
  }
 ],
 "metadata": {
  "kernelspec": {
   "display_name": "Python 3",
   "language": "python",
   "name": "python3"
  },
  "language_info": {
   "codemirror_mode": {
    "name": "ipython",
    "version": 3
   },
   "file_extension": ".py",
   "mimetype": "text/x-python",
   "name": "python",
   "nbconvert_exporter": "python",
   "pygments_lexer": "ipython3",
   "version": "3.11.4"
  },
  "orig_nbformat": 4
 },
 "nbformat": 4,
 "nbformat_minor": 2
}
