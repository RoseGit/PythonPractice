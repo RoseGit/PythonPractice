{
 "cells": [
  {
   "cell_type": "code",
   "execution_count": 1,
   "metadata": {},
   "outputs": [
    {
     "name": "stdout",
     "output_type": "stream",
     "text": [
      "Instruccion dentro de while\n",
      "Termino ciclo while \n",
      "0\n",
      "1\n",
      "2\n",
      "temino contador \n"
     ]
    }
   ],
   "source": [
    "# Ejemplo de ciclo while \n",
    "condicion = True\n",
    "\n",
    "\n",
    "# Se ejecuta la instruccion hasta que la condicion ya no se cumpla\n",
    "# OPCIONALMENTE podemos poner un else para cuando la condicion ya no se cumpla\n",
    "while condicion:\n",
    "    print(\"Instruccion dentro de while\")\n",
    "    condicion=False\n",
    "else:\n",
    "    print(\"Termino ciclo while \")\n",
    "\n",
    "\n",
    "# Imprime los numeros menores de 3 empezando por cero\n",
    "contador = 0\n",
    "while contador < 3:\n",
    "    print(contador)\n",
    "    # Incrementamos el contador en uno y se vuelve a preguntar la condicion en while\n",
    "    contador += 1\n",
    "else:\n",
    "    print(\"temino contador \")"
   ]
  },
  {
   "cell_type": "code",
   "execution_count": 4,
   "metadata": {},
   "outputs": [
    {
     "name": "stdout",
     "output_type": "stream",
     "text": [
      "H\n",
      "o\n",
      "l\n",
      "a\n",
      "Termino ciclo For \n"
     ]
    }
   ],
   "source": [
    "# ejemplo de ciclo for \n",
    "# Una cadena es un conjunto de letras\n",
    "cadena = \"Hola\"\n",
    "\n",
    "\n",
    "# Iteramos cada elemento de la cadena e imprimimos su valor\n",
    "# De manera OPCIONAL se puede poner un else cuando ya no hay elementos que iterar\n",
    "for letra in cadena:\n",
    "    print(letra)\n",
    "else:\n",
    "    print(\"Termino ciclo For \")"
   ]
  },
  {
   "cell_type": "code",
   "execution_count": 2,
   "metadata": {},
   "outputs": [
    {
     "name": "stdout",
     "output_type": "stream",
     "text": [
      "Letra a encontrada: a\n"
     ]
    }
   ],
   "source": [
    "# Ejemplo de uso de palabra reservada break \n",
    "# Buscamos la letra a en una cadena de caracteres\n",
    "# Si la encontramos rompemos el ciclo y lo terminamos\n",
    "myCadena = \"Holanda\"\n",
    "for letra in myCadena:\n",
    "    if letra == 'a':\n",
    "        print(f\"Letra a encontrada: {letra}\")\n",
    "        break\n",
    "else:\n",
    "    print(\"Termino ciclo for \")"
   ]
  },
  {
   "cell_type": "code",
   "execution_count": 3,
   "metadata": {},
   "outputs": [
    {
     "name": "stdout",
     "output_type": "stream",
     "text": [
      "Valor de i : 0\n",
      "Valor de i : 2\n",
      "Valor de i : 4\n"
     ]
    }
   ],
   "source": [
    "# Ejemplo de palabra reservada continue \n",
    "# El uso de continue nos permite ignorar instrucciones dentro de un ciclo y\n",
    "# Comenzar la siguiente iteracion\n",
    "for i in range(6):\n",
    "    if i % 2 != 0:\n",
    "        continue\n",
    "    print(f\"Valor de i : {i}\")"
   ]
  }
 ],
 "metadata": {
  "kernelspec": {
   "display_name": "Python 3",
   "language": "python",
   "name": "python3"
  },
  "language_info": {
   "codemirror_mode": {
    "name": "ipython",
    "version": 3
   },
   "file_extension": ".py",
   "mimetype": "text/x-python",
   "name": "python",
   "nbconvert_exporter": "python",
   "pygments_lexer": "ipython3",
   "version": "3.11.4"
  },
  "orig_nbformat": 4
 },
 "nbformat": 4,
 "nbformat_minor": 2
}
