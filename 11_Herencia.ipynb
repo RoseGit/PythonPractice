{
 "cells": [
  {
   "cell_type": "code",
   "execution_count": 1,
   "metadata": {},
   "outputs": [
    {
     "name": "stdout",
     "output_type": "stream",
     "text": [
      "Rose\n",
      "23\n",
      "5000\n"
     ]
    }
   ],
   "source": [
    "# Definimos una clase padre\n",
    "class Persona:\n",
    "\n",
    "    def __init__(self, nombre, edad) -> None:\n",
    "        self.__nombre = nombre\n",
    "        self.__edad = edad\n",
    "\n",
    "    @property\n",
    "    def nombre(self):\n",
    "        return self.__nombre\n",
    "\n",
    "    @nombre.setter\n",
    "    def nombre(self, nombre):\n",
    "        self.__nombre = nombre\n",
    "\n",
    "    @property\n",
    "    def edad(self):\n",
    "        return self.__edad\n",
    "\n",
    "    @edad.setter\n",
    "    def edad(self, edad):\n",
    "        self.__edad = edad\n",
    "\n",
    "# Definimos una clase hija e indicamos quien es su padre \n",
    "class Empleado(Persona):\n",
    "\n",
    "\n",
    "    def __init__(self, nombre, edad, sueldo) -> None:\n",
    "\n",
    "        # mandamos llamar el inicializador del padre con la palabra reservada super\n",
    "        super().__init__(nombre, edad)\n",
    "        self.sueldo = sueldo\n",
    "\n",
    "empleado1 = Empleado('Rose', 23, 5000)\n",
    "\n",
    "# Vemos como podemos acceder a los atributos de la clase padre\n",
    "print(empleado1.nombre)\n",
    "print(empleado1.edad)\n",
    "print(empleado1.sueldo)"
   ]
  },
  {
   "cell_type": "code",
   "execution_count": 2,
   "metadata": {},
   "outputs": [
    {
     "name": "stdout",
     "output_type": "stream",
     "text": [
      "Rose\n",
      "23\n",
      "5000\n"
     ]
    }
   ],
   "source": [
    "# Sobre escritura del metodo str similar al toString de Java\n",
    "# Definimos una clase padre\n",
    "class Persona:\n",
    "\n",
    "    def __init__(self, nombre, edad) -> None:\n",
    "        self.__nombre = nombre\n",
    "        self.__edad = edad\n",
    "\n",
    "    # Sobreescribimos el metodo __str__\n",
    "    def __str__(self) -> str:\n",
    "        return f\"Persona:{self.nombre} edad: {self.edad}\"\n",
    "\n",
    "    @property\n",
    "    def nombre(self):\n",
    "        return self.__nombre\n",
    "\n",
    "    @nombre.setter\n",
    "    def nombre(self, nombre):\n",
    "        self.__nombre = nombre\n",
    "\n",
    "    @property\n",
    "    def edad(self):\n",
    "        return self.__edad\n",
    "\n",
    "    @edad.setter\n",
    "    def edad(self, edad):\n",
    "        self.__edad = edad\n",
    "\n",
    "# Definimos una clase hija e indicamos quien es su padre\n",
    "class Empleado(Persona):\n",
    "\n",
    "    def __init__(self, nombre, edad, sueldo) -> None:\n",
    "\n",
    "        # mandamos llamar el inicializador del padre con la palabra reservada super\n",
    "        super().__init__(nombre, edad)\n",
    "        self.sueldo = sueldo\n",
    "\n",
    "    # Sobreescribimos el metodo str de empleado\n",
    "\n",
    "    def __str__(self) -> str:\n",
    "\n",
    "\n",
    "        #Como ya sobreescribimos el str de persona, lo mandamos llamar con super\n",
    "        return f\"{super().__str__()} Sueldo {self.sueldo}\"\n",
    "\n",
    "\n",
    "# Vemos como podemos acceder a los atributos de la clase padre\n",
    "if __name__ == '__main__':\n",
    "    empleado1 = Empleado('Rose', 23, 5000)\n",
    "    print(empleado1.nombre)\n",
    "    print(empleado1.edad)\n",
    "    print(empleado1.sueldo)"
   ]
  },
  {
   "cell_type": "code",
   "execution_count": 3,
   "metadata": {},
   "outputs": [
    {
     "name": "stdout",
     "output_type": "stream",
     "text": [
      "Persona:Juan edad: 28\n",
      "Persona:Rose edad: 23 Sueldo 5000\n"
     ]
    }
   ],
   "source": [
    "persona1 = Persona('Juan', 28)\n",
    "# Llama al metodo str que sobreescribimos en Persona\n",
    "print(persona1)\n",
    "\n",
    "empleado1 = Empleado('Rose', 23, 5000)\n",
    "# Llama al metodo str que sobreescribimos en Empleado\n",
    "print(empleado1)"
   ]
  }
 ],
 "metadata": {
  "kernelspec": {
   "display_name": "Python 3",
   "language": "python",
   "name": "python3"
  },
  "language_info": {
   "codemirror_mode": {
    "name": "ipython",
    "version": 3
   },
   "file_extension": ".py",
   "mimetype": "text/x-python",
   "name": "python",
   "nbconvert_exporter": "python",
   "pygments_lexer": "ipython3",
   "version": "3.11.4"
  },
  "orig_nbformat": 4
 },
 "nbformat": 4,
 "nbformat_minor": 2
}
