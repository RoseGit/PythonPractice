{
 "cells": [
  {
   "cell_type": "markdown",
   "metadata": {},
   "source": [
    "Operadores Aritmeticos "
   ]
  },
  {
   "cell_type": "code",
   "execution_count": 1,
   "metadata": {},
   "outputs": [
    {
     "name": "stdout",
     "output_type": "stream",
     "text": [
      "El resultado es 13\n",
      "La suma en formato de interpolacion es: 13\n",
      "La resta en formato de interpolacion es: -7\n",
      "La multiplicacion en formato de interpolacion es: 30\n",
      "La division en formato de interpolacion es: 0.3\n",
      "La division entera en formato de interpolacion es: 0\n",
      "La modulo en formato de interpolacion es: 3\n",
      "La exponente en formato de interpolacion es: 59049\n"
     ]
    }
   ],
   "source": [
    "# Operador Aritmetico Suma\n",
    "operandoA = 3\n",
    "operandoB = 10\n",
    "suma = operandoA + operandoB\n",
    "print(\"El resultado es\", suma)\n",
    "\n",
    "\n",
    "# Otra forma de imprimir el resultado es con interpolacion y se usa de la siguiente manera\n",
    "# La letra f no es opcional y podemos indicar imprimir el valor de una variable con las llaves {}\n",
    "print(f\"La suma en formato de interpolacion es: {suma}\")\n",
    "\n",
    "\n",
    "# Operador resta\n",
    "operandoA = 3\n",
    "operandoB = 10\n",
    "resta = operandoA - operandoB\n",
    "print(f\"La resta en formato de interpolacion es: {resta}\")\n",
    "\n",
    "\n",
    "# Operador multiplicacion\n",
    "operandoA = 3\n",
    "operandoB = 10\n",
    "multiplicacion = operandoA * operandoB\n",
    "print(f\"La multiplicacion en formato de interpolacion es: {multiplicacion}\")\n",
    "\n",
    "\n",
    "# Operador division\n",
    "operandoA = 3\n",
    "operandoB = 10\n",
    "division = operandoA / operandoB\n",
    "print(f\"La division en formato de interpolacion es: {division}\")\n",
    "\n",
    "# Operador division Entero\n",
    "operandoA = 3\n",
    "operandoB = 10\n",
    "division = operandoA // operandoB\n",
    "print(f\"La division entera en formato de interpolacion es: {division}\")\n",
    "\n",
    "\n",
    "# Operador Modulo / Residuo\n",
    "operandoA = 3\n",
    "operandoB = 10\n",
    "modulo = operandoA % operandoB\n",
    "print(f\"La modulo en formato de interpolacion es: {modulo}\")\n",
    "\n",
    "\n",
    "# Operador exponente\n",
    "operandoA = 3\n",
    "operandoB = 10\n",
    "exponente = operandoA ** operandoB\n",
    "print(f\"La exponente en formato de interpolacion es: {exponente}\")"
   ]
  },
  {
   "cell_type": "markdown",
   "metadata": {},
   "source": [
    "Operadores de asignación"
   ]
  },
  {
   "cell_type": "code",
   "execution_count": 2,
   "metadata": {},
   "outputs": [
    {
     "name": "stdout",
     "output_type": "stream",
     "text": [
      "10\n",
      "10\n",
      "11\n",
      "12\n",
      "11\n",
      "22\n",
      "11.0\n"
     ]
    }
   ],
   "source": [
    "miVariable = 10;\n",
    "print(miVariable)\n",
    "\n",
    "\n",
    "# No se asigna el nuevo valor a mi variable es necesario re-asignar\n",
    "miVariable +1\n",
    "print(miVariable)\n",
    "\n",
    "\n",
    "# Re-asignamos\n",
    "miVariable = miVariable +1\n",
    "print(miVariable)\n",
    "\n",
    "\n",
    "# Existe el formato reducido de la siguiente manera\n",
    "miVariable +=1\n",
    "print(miVariable)\n",
    "\n",
    "\n",
    "miVariable -=1\n",
    "print(miVariable)\n",
    "\n",
    "\n",
    "miVariable *=2\n",
    "print(miVariable)\n",
    "\n",
    "\n",
    "miVariable /=2\n",
    "print(miVariable)"
   ]
  },
  {
   "cell_type": "markdown",
   "metadata": {},
   "source": [
    "Operadores de comparación "
   ]
  },
  {
   "cell_type": "code",
   "execution_count": 3,
   "metadata": {},
   "outputs": [
    {
     "name": "stdout",
     "output_type": "stream",
     "text": [
      "Resultado a==b False\n",
      "Resultado a==c True\n",
      "Resultado a!=b True\n",
      "Resultado a>b True\n",
      "Resultado a>c False\n",
      "Resultado a>=c True\n",
      "Resultado a<=c True\n",
      "Resultado a<c False\n"
     ]
    }
   ],
   "source": [
    "a = 4\n",
    "b = 2\n",
    "c = 4\n",
    "\n",
    "\n",
    "# Preguntamos si a es igual a b\n",
    "resultado = (a == b)\n",
    "print(f\"Resultado a==b {resultado}\")\n",
    "\n",
    "\n",
    "# Preguntamos si a es igual a c\n",
    "resultado = (a == c)\n",
    "print(f\"Resultado a==c {resultado}\")\n",
    "\n",
    "\n",
    "# Preguntamos si a es diferente de b\n",
    "resultado = (a != b)\n",
    "print(f\"Resultado a!=b {resultado}\")\n",
    "\n",
    "\n",
    "# Preguntamos si a es mayor que  b\n",
    "resultado = (a > b)\n",
    "print(f\"Resultado a>b {resultado}\")\n",
    "\n",
    "\n",
    "# Preguntamos si a es mayor que  c\n",
    "resultado = (a > c)\n",
    "print(f\"Resultado a>c {resultado}\")\n",
    "\n",
    "\n",
    "# Preguntamos si a es mayor o igual que  c\n",
    "resultado = (a >= c)\n",
    "print(f\"Resultado a>=c {resultado}\")\n",
    "\n",
    "\n",
    "# Preguntamos si a es menor o igual que  c\n",
    "resultado = (a <= c)\n",
    "print(f\"Resultado a<=c {resultado}\")\n",
    "\n",
    "\n",
    "# Preguntamos si a es menor  c\n",
    "resultado = (a < c)\n",
    "print(f\"Resultado a<c {resultado}\")"
   ]
  },
  {
   "cell_type": "markdown",
   "metadata": {},
   "source": [
    "Operadores Logicos"
   ]
  },
  {
   "cell_type": "code",
   "execution_count": null,
   "metadata": {},
   "outputs": [],
   "source": [
    "a = True\n",
    "b = True\n",
    "c = False\n",
    "\n",
    "# AND Devuelve True si ambos son verdadero\n",
    "resultado = a and b\n",
    "print(resultado)\n",
    "\n",
    "resultado = a and c\n",
    "print(resultado)\n",
    "\n",
    "# OR con uno que sea True la expresion es verdadero\n",
    "resultado = a or b\n",
    "print(resultado)\n",
    "\n",
    "resultado = a or c\n",
    "print(resultado)\n",
    "\n",
    "# NOT devuelve la expreison negada\n",
    "resultado = not a\n",
    "print(resultado)"
   ]
  }
 ],
 "metadata": {
  "kernelspec": {
   "display_name": "Python 3",
   "language": "python",
   "name": "python3"
  },
  "language_info": {
   "codemirror_mode": {
    "name": "ipython",
    "version": 3
   },
   "file_extension": ".py",
   "mimetype": "text/x-python",
   "name": "python",
   "nbconvert_exporter": "python",
   "pygments_lexer": "ipython3",
   "version": "3.11.4"
  },
  "orig_nbformat": 4
 },
 "nbformat": 4,
 "nbformat_minor": 2
}
